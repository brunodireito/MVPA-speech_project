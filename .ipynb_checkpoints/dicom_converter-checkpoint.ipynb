{
 "cells": [
  {
   "cell_type": "code",
   "execution_count": null,
   "metadata": {},
   "outputs": [],
   "source": [
    "from nipype.interfaces.dcm2nii import Dcm2niix\n",
    "\n",
    "def convert_dcm_2_nii_x(dcm_folder, output_folder):\n",
    "    converter = Dcm2niix()\n",
    "    converter.inputs.source_dir = dcm_folder\n",
    "    converter.inputs.output_dir = output_folder\n",
    "    converter.inputs.compress = 'i'\n",
    "    converter.run()"
   ]
  }
 ],
 "metadata": {
  "kernelspec": {
   "display_name": "Python 3",
   "language": "python",
   "name": "python3"
  },
  "language_info": {
   "codemirror_mode": {
    "name": "ipython",
    "version": 3
   },
   "file_extension": ".py",
   "mimetype": "text/x-python",
   "name": "python",
   "nbconvert_exporter": "python",
   "pygments_lexer": "ipython3",
   "version": "3.8.3"
  }
 },
 "nbformat": 4,
 "nbformat_minor": 4
}
