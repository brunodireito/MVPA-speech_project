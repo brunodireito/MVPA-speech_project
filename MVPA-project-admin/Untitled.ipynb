{
 "cells": [
  {
   "cell_type": "code",
   "execution_count": 3,
   "metadata": {},
   "outputs": [],
   "source": [
    "from scipy.io import loadmat\n",
    "\n",
    "log = loadmat('log_nomeacao_JoaoPereira_inner.mat')"
   ]
  },
  {
   "cell_type": "code",
   "execution_count": 6,
   "metadata": {},
   "outputs": [
    {
     "data": {
      "text/plain": [
       "dict_keys(['__header__', '__version__', '__globals__', 'ans', 'framesPath', 'subjectName', 'runName', 'syncBoxEnabled', 'configs', 'numRep', 'numOfCond', 'inblockRep', 'numBlocks', 'imageSequence', 'isi', 'imgDur', 'fixDur', 'blockDur', 'protocolConds', 'syncBoxHandle', 'foldersFrames_temp', 'counter', 'images', 'i', 'conditions', 'pathFrames_expressions', 'fileName_temp', 'imageData', 'screens', 'screenNumber', 'w', 'wRect', 'X', 'Y', 'FixCross', 'gotTrigger', 'logdata', 'startExperiment', 'numIt', 'startBlock', 'startTime', 'f', 'offset', 'imageIdx', 'imageToDisp', 'textureIndex', 'stopBlock', 'stopExperiment'])"
      ]
     },
     "execution_count": 6,
     "metadata": {},
     "output_type": "execute_result"
    }
   ],
   "source": [
    "log.keys()\n"
   ]
  },
  {
   "cell_type": "code",
   "execution_count": 7,
   "metadata": {},
   "outputs": [
    {
     "data": {
      "text/plain": [
       "array([[1, 2, 1, 2, 1, 2, 1, 2, 1, 2, 1, 2, 1, 2, 1, 2, 1]], dtype=uint8)"
      ]
     },
     "execution_count": 7,
     "metadata": {},
     "output_type": "execute_result"
    }
   ],
   "source": [
    "log['protocolConds']"
   ]
  },
  {
   "cell_type": "code",
   "execution_count": 36,
   "metadata": {},
   "outputs": [
    {
     "name": "stdout",
     "output_type": "stream",
     "text": [
      "[0, 0, 0, 0, 0, 9, 37, 19, 1, 12]\n",
      "[0, 3, 6, 9, 12, 15, 18, 21, 24, 27]\n"
     ]
    }
   ],
   "source": [
    "\n",
    "offset=0\n",
    "\n",
    "ev_type=[]\n",
    "ev_tstamps=[]\n",
    "\n",
    "im_idx=0\n",
    "\n",
    "TR=3\n",
    "\n",
    "protocolConds=log['protocolConds'][0]\n",
    "\n",
    "imageSequence=log['imageSequence'][0]\n",
    "\n",
    "\n",
    "# get events\n",
    "for b in protocolConds:\n",
    "    if b==1:\n",
    "        for i in range(5):\n",
    "            ev_type.append(0)\n",
    "            ev_tstamps.append(offset)\n",
    "            offset+=3\n",
    "    else:\n",
    "        for i in range(10):\n",
    "            ev_type.append(imageSequence[im_idx])\n",
    "            ev_tstamps.append(offset)\n",
    "            offset+=3\n",
    "            im_idx+=1\n",
    "            \n",
    "            \n",
    "print(ev_type[:10])\n",
    "print(ev_tstamps[:10])"
   ]
  },
  {
   "cell_type": "code",
   "execution_count": null,
   "metadata": {},
   "outputs": [],
   "source": []
  }
 ],
 "metadata": {
  "kernelspec": {
   "display_name": "Python 3",
   "language": "python",
   "name": "python3"
  },
  "language_info": {
   "codemirror_mode": {
    "name": "ipython",
    "version": 3
   },
   "file_extension": ".py",
   "mimetype": "text/x-python",
   "name": "python",
   "nbconvert_exporter": "python",
   "pygments_lexer": "ipython3",
   "version": "3.8.3"
  }
 },
 "nbformat": 4,
 "nbformat_minor": 4
}
