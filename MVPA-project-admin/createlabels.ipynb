{
 "cells": [
  {
   "cell_type": "code",
   "execution_count": 3,
   "metadata": {},
   "outputs": [],
   "source": [
    "import numpy as np\n",
    "import pandas as pd"
   ]
  },
  {
   "cell_type": "code",
   "execution_count": 4,
   "metadata": {},
   "outputs": [
    {
     "name": "stdout",
     "output_type": "stream",
     "text": [
      "  trial_type  onset  duration\n",
      "0  Baseline     0.0      12.5\n",
      "1      Task    15.0      27.5\n",
      "2  Baseline    45.0      12.5\n",
      "3      Task    60.0      27.5\n",
      "4  Baseline    90.0      12.5\n"
     ]
    }
   ],
   "source": [
    "tr = 2.5  # repetition time is ? second\n",
    "n_scans = 222  # the acquisition comprises ?? scans\n",
    "frame_times = np.arange(n_scans) * tr  # here are the correspoding frame times\n",
    "\n",
    "# load events.tsv\n",
    "events_PATH='/Users/home/Documents/GitHub/MVPA-speech_project/convert-bids-admin/DOCKER/events.tsv'\n",
    "\n",
    "events_df = pd.read_csv(events_PATH, sep='\\t', na_values=\"n/a\")\n",
    "print(events_df.head())"
   ]
  },
  {
   "cell_type": "code",
   "execution_count": 8,
   "metadata": {},
   "outputs": [
    {
     "data": {
      "text/plain": [
       "0       0.0\n",
       "1       6.0\n",
       "2      18.0\n",
       "3      24.0\n",
       "4      36.0\n",
       "5      42.0\n",
       "6      54.0\n",
       "7      60.0\n",
       "8      72.0\n",
       "9      78.0\n",
       "10     90.0\n",
       "11     96.0\n",
       "12    108.0\n",
       "13    114.0\n",
       "14    126.0\n",
       "15    132.0\n",
       "16    144.0\n",
       "17    150.0\n",
       "18    162.0\n",
       "19    168.0\n",
       "20    180.0\n",
       "21    186.0\n",
       "22    198.0\n",
       "23    204.0\n",
       "24    216.0\n",
       "Name: onset, dtype: float64"
      ]
     },
     "execution_count": 8,
     "metadata": {},
     "output_type": "execute_result"
    }
   ],
   "source": [
    "events_df['onset']/tr\n"
   ]
  },
  {
   "cell_type": "code",
   "execution_count": 44,
   "metadata": {},
   "outputs": [
    {
     "name": "stdout",
     "output_type": "stream",
     "text": [
      "6.0\n",
      "12.0\n",
      "6.0\n",
      "12.0\n",
      "6.0\n",
      "12.0\n",
      "6.0\n",
      "12.0\n",
      "6.0\n",
      "12.0\n",
      "6.0\n",
      "12.0\n",
      "6.0\n",
      "12.0\n",
      "6.0\n",
      "12.0\n",
      "6.0\n",
      "12.0\n",
      "6.0\n",
      "12.0\n",
      "6.0\n",
      "12.0\n",
      "6.0\n",
      "12.0\n",
      "6.0\n"
     ]
    }
   ],
   "source": [
    "idxs=events_df['onset']/tr\n",
    "conditions = []\n",
    "\n",
    "for i in range(len(events_df)):\n",
    "    idx_2=((events_df['duration'][i]/tr))+1\n",
    "    print(idx_2)\n",
    "    for j in range(int(idx_2)):\n",
    "        conditions.append(events_df['trial_type'][i])"
   ]
  },
  {
   "cell_type": "code",
   "execution_count": 45,
   "metadata": {},
   "outputs": [
    {
     "data": {
      "text/plain": [
       "222"
      ]
     },
     "execution_count": 45,
     "metadata": {},
     "output_type": "execute_result"
    }
   ],
   "source": [
    "events_df['onset'][0]\n",
    "len(conditions)"
   ]
  }
 ],
 "metadata": {
  "kernelspec": {
   "display_name": "Python 3",
   "language": "python",
   "name": "python3"
  },
  "language_info": {
   "codemirror_mode": {
    "name": "ipython",
    "version": 3
   },
   "file_extension": ".py",
   "mimetype": "text/x-python",
   "name": "python",
   "nbconvert_exporter": "python",
   "pygments_lexer": "ipython3",
   "version": "3.8.3"
  }
 },
 "nbformat": 4,
 "nbformat_minor": 4
}
