{
 "cells": [
  {
   "cell_type": "markdown",
   "metadata": {},
   "source": [
    "\n",
    "### Load the data\n",
    "Load the preprocessed datasets for each run\n"
   ]
  },
  {
   "cell_type": "code",
   "execution_count": 1,
   "metadata": {},
   "outputs": [],
   "source": [
    "# Let's keep our notebook clean, so it's a little more readable!\n",
    "import warnings\n",
    "warnings.filterwarnings('ignore')\n"
   ]
  },
  {
   "cell_type": "code",
   "execution_count": 2,
   "metadata": {},
   "outputs": [],
   "source": [
    "import os\n",
    "\n",
    "# Set variables\n",
    "#ROOT_DATA='/Users/home/Documents/BIDS/'\n",
    "ROOT_DATA=r\"C:\\Users\\bdireito\\Desktop\\Data\\DATA_ananogueira\\func\"\n",
    "\n",
    "SUB=['sub-0001', 'sub-0002']\n",
    "\n",
    "SES='ses-001'\n",
    "\n",
    "TASK=['nomeacaoinner', 'nomeacaoovert']\n",
    "TASK='nomeacaoinner'\n",
    "\n",
    "RUN='run-01'\n",
    "\n",
    "# project folder\n",
    "ROOT_PROJECT=r'C:\\Users\\bdireito\\Documents\\GitHub\\MVPA-speech_project\\anan0gueira-Git'\n"
   ]
  },
  {
   "cell_type": "markdown",
   "metadata": {},
   "source": [
    "### Combine datasets\n",
    "\n",
    "Here, we are going com combine the different runs (whole-brain beta series, X) from a specific participant and the target condition for each event (y).\n"
   ]
  },
  {
   "cell_type": "code",
   "execution_count": 15,
   "metadata": {},
   "outputs": [],
   "source": [
    "import nilearn\n",
    "from nilearn import image\n",
    "from nilearn.image import mean_img,math_img,index_img,concat_imgs\n",
    "\n",
    "import numpy as np\n",
    "\n",
    "import pandas as pd"
   ]
  },
  {
   "cell_type": "markdown",
   "metadata": {},
   "source": [
    "#### Combine volumes from both datasets."
   ]
  },
  {
   "cell_type": "code",
   "execution_count": 16,
   "metadata": {},
   "outputs": [
    {
     "name": "stdout",
     "output_type": "stream",
     "text": [
      "(91, 109, 91, 248)\n"
     ]
    }
   ],
   "source": [
    "\n",
    "bs_maps=None\n",
    "\n",
    "# Iterate runs.\n",
    "for s in SUB:\n",
    "    \n",
    "    # Load data for each RUN r.\n",
    "    bs_fn=os.path.join(s + '_' + SES + '_task-' + TASK + '_'+ RUN +'_bold_bs.nii.gz')\n",
    "    bs_map= image.load_img(bs_fn)\n",
    " \n",
    "    if bs_maps is None:\n",
    "        bs_maps=bs_map\n",
    "  \n",
    "    else:\n",
    "        bs_maps=[bs_maps,bs_map]\n",
    "\n",
    "    \n",
    "    del bs_map\n",
    "    \n",
    "bs_maps=concat_imgs(bs_maps, auto_resample=True)\n",
    "print(bs_maps.shape)\n"
   ]
  },
  {
   "cell_type": "markdown",
   "metadata": {},
   "source": [
    "#### Combine classification target files"
   ]
  },
  {
   "cell_type": "code",
   "execution_count": 17,
   "metadata": {},
   "outputs": [
    {
     "data": {
      "text/html": [
       "<div>\n",
       "<style scoped>\n",
       "    .dataframe tbody tr th:only-of-type {\n",
       "        vertical-align: middle;\n",
       "    }\n",
       "\n",
       "    .dataframe tbody tr th {\n",
       "        vertical-align: top;\n",
       "    }\n",
       "\n",
       "    .dataframe thead th {\n",
       "        text-align: right;\n",
       "    }\n",
       "</style>\n",
       "<table border=\"1\" class=\"dataframe\">\n",
       "  <thead>\n",
       "    <tr style=\"text-align: right;\">\n",
       "      <th></th>\n",
       "      <th>condition</th>\n",
       "    </tr>\n",
       "  </thead>\n",
       "  <tbody>\n",
       "    <tr>\n",
       "      <th>0</th>\n",
       "      <td>0</td>\n",
       "    </tr>\n",
       "    <tr>\n",
       "      <th>1</th>\n",
       "      <td>0</td>\n",
       "    </tr>\n",
       "    <tr>\n",
       "      <th>2</th>\n",
       "      <td>0</td>\n",
       "    </tr>\n",
       "    <tr>\n",
       "      <th>3</th>\n",
       "      <td>0</td>\n",
       "    </tr>\n",
       "    <tr>\n",
       "      <th>4</th>\n",
       "      <td>0</td>\n",
       "    </tr>\n",
       "    <tr>\n",
       "      <th>5</th>\n",
       "      <td>1</td>\n",
       "    </tr>\n",
       "    <tr>\n",
       "      <th>6</th>\n",
       "      <td>1</td>\n",
       "    </tr>\n",
       "    <tr>\n",
       "      <th>7</th>\n",
       "      <td>1</td>\n",
       "    </tr>\n",
       "    <tr>\n",
       "      <th>8</th>\n",
       "      <td>1</td>\n",
       "    </tr>\n",
       "    <tr>\n",
       "      <th>9</th>\n",
       "      <td>1</td>\n",
       "    </tr>\n",
       "  </tbody>\n",
       "</table>\n",
       "</div>"
      ],
      "text/plain": [
       "   condition\n",
       "0          0\n",
       "1          0\n",
       "2          0\n",
       "3          0\n",
       "4          0\n",
       "5          1\n",
       "6          1\n",
       "7          1\n",
       "8          1\n",
       "9          1"
      ]
     },
     "execution_count": 17,
     "metadata": {},
     "output_type": "execute_result"
    }
   ],
   "source": [
    "\n",
    "classification_target=None\n",
    "labels=None\n",
    "\n",
    "# Iterate runs.\n",
    "for s in SUB:\n",
    "    \n",
    "    \n",
    "    # Load labels for each RUN r.\n",
    "    labels_fn=os.path.join(s + '_' + SES + '_task-' + TASK + '_'+ RUN +'_labels.csv')\n",
    "    col_list = [\"0\"]\n",
    "    labels=pd.read_csv(labels_fn, usecols=col_list)\n",
    "    \n",
    "    # classification baseline vs. naming task.\n",
    "    labels.loc[labels['0'] != 0, ['0']] = 1\n",
    "       \n",
    "    if classification_target is None:\n",
    "        classification_target=labels\n",
    "    else:\n",
    "        classification_target=pd.concat((classification_target, labels))\n",
    "    \n",
    "    #del labels\n",
    "    \n",
    "classification_target=classification_target.rename(columns={'0':'condition'})\n",
    "classification_target.head(10)\n",
    "    \n",
    "    "
   ]
  },
  {
   "cell_type": "code",
   "execution_count": 18,
   "metadata": {},
   "outputs": [
    {
     "data": {
      "text/plain": [
       "<AxesSubplot:xlabel='condition', ylabel='count'>"
      ]
     },
     "execution_count": 18,
     "metadata": {},
     "output_type": "execute_result"
    },
    {
     "data": {
      "image/png": "[encoded data removed]",
      "text/plain": [
       "<Figure size 432x288 with 1 Axes>"
      ]
     },
     "metadata": {
      "needs_background": "light"
     },
     "output_type": "display_data"
    }
   ],
   "source": [
    "import matplotlib.pyplot as plt\n",
    "import seaborn as sns\n",
    "\n",
    "sns.countplot(classification_target['condition'])"
   ]
  },
  {
   "cell_type": "markdown",
   "metadata": {},
   "source": [
    "### Mask selection - features\n",
    "Here we select the different masks (i.e. brain regions) used to classify.\n",
    "To this end, we will use a predined atlas with anatomical predefined regions.\n",
    "\n",
    "Please note that:\n",
    "- CHECK FERREIRA et al., to define brain regions"
   ]
  },
  {
   "cell_type": "code",
   "execution_count": 19,
   "metadata": {},
   "outputs": [],
   "source": [
    "from nilearn import datasets\n",
    "\n",
    "# Load atalas.\n",
    "dataset = datasets.fetch_atlas_harvard_oxford('cort-maxprob-thr25-2mm') \n",
    "atlas_filename = dataset.maps\n"
   ]
  },
  {
   "cell_type": "code",
   "execution_count": 20,
   "metadata": {},
   "outputs": [],
   "source": [
    "#dataset\n",
    "#print(dataset.labels[12])"
   ]
  },
  {
   "cell_type": "code",
   "execution_count": 21,
   "metadata": {},
   "outputs": [],
   "source": [
    "# Define the masks to be used in the for loop.\n",
    "areas=[[47,48,46,5],[47,48],[46,5], [46], [5], [12]]\n",
    "\n",
    "areas=[[47,48,46,5]]"
   ]
  },
  {
   "cell_type": "markdown",
   "metadata": {},
   "source": [
    "### Prepare data for machine learning\n",
    "\n",
    "Here, we will define a “training sample” where we can play around with our models (cross-validation). \n",
    "\n",
    "We will also set aside a “test” sample that we will not touch until the end ()\n",
    "\n",
    "We want to be sure that our training and test sample are matched! We can do that with a “stratified split”. Specifically, we will stratify by age class."
   ]
  },
  {
   "cell_type": "code",
   "execution_count": 22,
   "metadata": {},
   "outputs": [],
   "source": [
    "numclasses=len(np.unique(classification_target))"
   ]
  },
  {
   "cell_type": "code",
   "execution_count": 23,
   "metadata": {},
   "outputs": [
    {
     "name": "stdout",
     "output_type": "stream",
     "text": [
      "['0', '1']\n"
     ]
    }
   ],
   "source": [
    "# Define target array of strings.\n",
    "\n",
    "targets=[]\n",
    "for i in range(numclasses): \n",
    "    targets.append(str(i)) \n",
    "    \n",
    "print(targets)"
   ]
  },
  {
   "cell_type": "code",
   "execution_count": 24,
   "metadata": {},
   "outputs": [],
   "source": [
    "# Cross-validation\n",
    "cv = 3\n",
    "\n",
    "classifiers_data = {}\n",
    "\n",
    "# use different targets 2 class (baseline vs all others) e 5-class\n",
    "\n",
    "# use different kernels\n",
    "kernel='rbf' #'rbf' 'linear' 'poly'\n",
    "\n",
    "# use different masks"
   ]
  },
  {
   "cell_type": "code",
   "execution_count": 26,
   "metadata": {},
   "outputs": [
    {
     "name": "stdout",
     "output_type": "stream",
     "text": [
      "______________________________________________________________________\n",
      "number of features: 7592 training: 198 testing: 50\n",
      "Accuracy with cross validation: 73.737\n",
      "Accuracy without cross validation: 96.465\n"
     ]
    },
    {
     "data": {
      "image/png": "[encoded data removed]",
      "text/plain": [
       "<Figure size 525.6x187.2 with 5 Axes>"
      ]
     },
     "metadata": {},
     "output_type": "display_data"
    }
   ],
   "source": [
    "from sklearn.model_selection import train_test_split\n",
    "from sklearn.svm import SVC\n",
    "from nilearn import plotting\n",
    "\n",
    "from nilearn.input_data import NiftiMasker\n",
    "from sklearn.model_selection import cross_val_score, cross_val_predict\n",
    "import time\n",
    "\n",
    "\n",
    "for idx, area in enumerate(areas): \n",
    "    \n",
    "    classifiers_data[idx] = {}\n",
    "    \n",
    "    print(70 * '_')\n",
    "    \n",
    "    # -------------------- MASKER\n",
    "    \n",
    "    # Create img based on atlas mask.\n",
    "    mask = mean_img([math_img('img == %d'  %i, img=atlas_filename) for i in area])\n",
    "    \n",
    "    # Plot mask.\n",
    "    plotting.plot_stat_map(mask)\n",
    "    plotting.show\n",
    "    \n",
    "    # Create masker object to extrach data from beta series.\n",
    "    masker=NiftiMasker(mask_img=mask, standardize=True)\n",
    "    X_features=masker.fit_transform(bs_maps)\n",
    "    \n",
    "    \n",
    "    # -------------------- TRAIN TEST split\n",
    "\n",
    "    # Split the sample to training/test with a 70/30 ratio, and\n",
    "    # stratify by age class, and also shuffle the data.\n",
    "\n",
    "    X_train, X_test, y_train, y_test = train_test_split(\n",
    "                                                        X_features, # x\n",
    "                                                        classification_target['condition'], # y\n",
    "                                                        test_size = 0.2, # 80%/20% split  \n",
    "                                                        shuffle = True, # shuffle dataset\n",
    "                                                                        # before splitting\n",
    "                                                        stratify = classification_target['condition'], # keep\n",
    "                                                                               # distribution\n",
    "                                                                               # of condtions\n",
    "                                                                               # consistent\n",
    "                                                                               # betw. train\n",
    "                                                                               # & test sets.\n",
    "                                                        random_state = 123 # same shuffle each\n",
    "                                                                           # time\n",
    "                                                                           )\n",
    "\n",
    "    ## print the size of our training and test groups\n",
    "    print('number of features:', X_features.shape[1], 'training:', len(X_train), 'testing:', len(X_test))\n",
    "    \n",
    "    # -------------------- Create new classifier model.\n",
    "    decoder = SVC(kernel=kernel)\n",
    "    \n",
    "    # ---- TRAIN model ----\n",
    "\n",
    "    \n",
    "    # Initiate timer to determine how long it takes.\n",
    "    t0 = time.time()\n",
    "    \n",
    "\n",
    "    # Save the area/label/mask used in this iteration.\n",
    "    classifiers_data[idx]['areas'] = area\n",
    "\n",
    "    # Save the number of voxels of this mask.\n",
    "    classifiers_data[idx]['number_voxels'] = X_features.shape[1]\n",
    "    \n",
    "    # Save kernel of the SVM classifier.\n",
    "    classifiers_data[idx]['kernel']=kernel\n",
    "    \n",
    "    # Save the Cross-validation results - cv=cv.\n",
    "    classifiers_data[idx]['train_score_cv'] = cross_val_score(decoder, X_train, y_train, cv=cv, scoring='accuracy')\n",
    "    y_pred_train_cv = cross_val_predict(decoder, X_train, y_train,groups=y_train, cv=cv)\n",
    "    acc_train_cv = (y_pred_train_cv == y_train).mean() * 100.\n",
    "    \n",
    "    print(\"Accuracy with cross validation: %.3f\" % acc_train_cv)\n",
    "    \n",
    "    # --- Train model with the training set.\n",
    "    decoder.fit(X_train, y_train)\n",
    "    \n",
    "    # Save the non-cross validation data\n",
    "    classifiers_data[idx]['train_score'] = decoder.score(X_train, y_train)\n",
    "    \n",
    "    # Compare with prediction.\n",
    "    y_pred_train = decoder.predict(X_train)\n",
    "    acc_train = (y_pred_train == y_train).mean() * 100.\n",
    "    \n",
    "    print(\"Accuracy without cross validation: %.3f\" % acc_train)\n",
    "    \n",
    "    # print(\"%10s: %.2fs\" % (idx, time.time() - t0))\n",
    "    \n",
    "    \n",
    "    # ---- TEST model ----\n",
    "    \n",
    "    #classifiers_data[idx]['test_score'] = decoder.score(X_test, y_test)\n",
    "    #print(classifiers_data[idx])\n",
    "    \n",
    "    "
   ]
  },
  {
   "cell_type": "markdown",
   "metadata": {},
   "source": [
    "### Let's analyze the training results \n",
    "With cross-validation."
   ]
  },
  {
   "cell_type": "code",
   "execution_count": 27,
   "metadata": {},
   "outputs": [
    {
     "data": {
      "image/png": "[encoded data removed]",
      "text/plain": [
       "<Figure size 432x288 with 2 Axes>"
      ]
     },
     "metadata": {
      "needs_background": "light"
     },
     "output_type": "display_data"
    }
   ],
   "source": [
    "import itertools\n",
    "from pandas import DataFrame\n",
    "\n",
    "from sklearn.metrics import classification_report, confusion_matrix, precision_score, f1_score\n",
    "\n",
    "# calculate the model precision, recall and f1, all in one convenient report!\n",
    "cr = classification_report(y_true=y_train,\n",
    "                      y_pred=y_pred_train_cv)\n",
    "\n",
    "# get a table to help us break down these scores\n",
    "cm = confusion_matrix(y_true=y_train, y_pred = y_pred_train_cv)\n",
    "\n",
    "# plot confusion matrix\n",
    "cmdf = DataFrame(cm, index = targets, columns = targets)\n",
    "sns.heatmap(cmdf, cmap = 'RdBu_r')\n",
    "plt.xlabel('Predicted')\n",
    "plt.ylabel('Observed')\n",
    "# label cells in matrix\n",
    "for i, j in itertools.product(range(cm.shape[0]), range(cm.shape[1])):\n",
    "        plt.text(j+0.5, i+0.5, format(cm[i, j], 'd'),\n",
    "                 horizontalalignment=\"center\",\n",
    "                 color=\"white\")"
   ]
  },
  {
   "cell_type": "markdown",
   "metadata": {},
   "source": [
    "Without cross-validation."
   ]
  },
  {
   "cell_type": "code",
   "execution_count": 28,
   "metadata": {},
   "outputs": [
    {
     "data": {
      "image/png": "[encoded data removed]",
      "text/plain": [
       "<Figure size 432x288 with 2 Axes>"
      ]
     },
     "metadata": {
      "needs_background": "light"
     },
     "output_type": "display_data"
    }
   ],
   "source": [
    "\n",
    "\n",
    "# calculate the model precision, recall and f1, all in one convenient report!\n",
    "cr = classification_report(y_true=y_train,\n",
    "                      y_pred=y_pred_train)\n",
    "\n",
    "# get a table to help us break down these scores\n",
    "cm = confusion_matrix(y_true=y_train, y_pred = y_pred_train)\n",
    "\n",
    "# plot confusion matrix\n",
    "cmdf = DataFrame(cm, index = targets, columns = targets)\n",
    "sns.heatmap(cmdf, cmap = 'RdBu_r')\n",
    "plt.xlabel('Predicted')\n",
    "plt.ylabel('Observed')\n",
    "# label cells in matrix\n",
    "for i, j in itertools.product(range(cm.shape[0]), range(cm.shape[1])):\n",
    "        plt.text(j+0.5, i+0.5, format(cm[i, j], 'd'),\n",
    "                 horizontalalignment=\"center\",\n",
    "                 color=\"white\")"
   ]
  },
  {
   "cell_type": "markdown",
   "metadata": {},
   "source": [
    "### Testing the model"
   ]
  },
  {
   "cell_type": "code",
   "execution_count": 29,
   "metadata": {},
   "outputs": [
    {
     "name": "stdout",
     "output_type": "stream",
     "text": [
      "{'areas': [47, 48, 46, 5], 'number_voxels': 7592, 'kernel': 'rbf', 'train_score_cv': array([0.74242424, 0.71212121, 0.75757576]), 'train_score': 0.9646464646464646, 'test_score': 0.9}\n"
     ]
    }
   ],
   "source": [
    "y_pred_test = decoder.predict(X_test)\n",
    "classifiers_data[idx]['test_score'] = decoder.score(X_test, y_test)\n",
    "\n",
    "print(classifiers_data[idx])"
   ]
  },
  {
   "cell_type": "code",
   "execution_count": 30,
   "metadata": {},
   "outputs": [
    {
     "data": {
      "image/png": "[encoded data removed]",
      "text/plain": [
       "<Figure size 432x288 with 2 Axes>"
      ]
     },
     "metadata": {
      "needs_background": "light"
     },
     "output_type": "display_data"
    }
   ],
   "source": [
    "# calculate the model precision, recall and f1, all in one convenient report!\n",
    "cr = classification_report(y_true=y_test,\n",
    "                      y_pred=y_pred_test)\n",
    "\n",
    "# get a table to help us break down these scores\n",
    "cm = confusion_matrix(y_true=y_test, y_pred = y_pred_test)\n",
    "\n",
    "# plot confusion matrix\n",
    "cmdf = DataFrame(cm, index = targets, columns = targets)\n",
    "sns.heatmap(cmdf, cmap = 'RdBu_r')\n",
    "plt.xlabel('Predicted')\n",
    "plt.ylabel('Observed')\n",
    "# label cells in matrix\n",
    "for i, j in itertools.product(range(cm.shape[0]), range(cm.shape[1])):\n",
    "        plt.text(j+0.5, i+0.5, format(cm[i, j], 'd'),\n",
    "                 horizontalalignment=\"center\",\n",
    "                 color=\"white\")\n"
   ]
  },
  {
   "cell_type": "code",
   "execution_count": 31,
   "metadata": {},
   "outputs": [
    {
     "name": "stdout",
     "output_type": "stream",
     "text": [
      "              precision    recall  f1-score   support\n",
      "\n",
      "           0       1.00      0.72      0.84        18\n",
      "           1       0.86      1.00      0.93        32\n",
      "\n",
      "    accuracy                           0.90        50\n",
      "   macro avg       0.93      0.86      0.88        50\n",
      "weighted avg       0.91      0.90      0.90        50\n",
      "\n"
     ]
    }
   ],
   "source": [
    "print(cr)"
   ]
  },
  {
   "cell_type": "code",
   "execution_count": null,
   "metadata": {},
   "outputs": [],
   "source": []
  }
 ],
 "metadata": {
  "kernelspec": {
   "display_name": "Python 3",
   "language": "python",
   "name": "python3"
  },
  "language_info": {
   "codemirror_mode": {
    "name": "ipython",
    "version": 3
   },
   "file_extension": ".py",
   "mimetype": "text/x-python",
   "name": "python",
   "nbconvert_exporter": "python",
   "pygments_lexer": "ipython3",
   "version": "3.8.5"
  }
 },
 "nbformat": 4,
 "nbformat_minor": 4
}
