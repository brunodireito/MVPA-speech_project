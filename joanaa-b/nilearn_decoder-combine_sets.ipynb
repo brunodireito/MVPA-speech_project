{
 "cells": [
  {
   "cell_type": "code",
   "execution_count": 1,
   "metadata": {},
   "outputs": [
    {
     "name": "stderr",
     "output_type": "stream",
     "text": [
      "C:\\ProgramData\\Anaconda3\\lib\\site-packages\\nilearn\\datasets\\__init__.py:87: FutureWarning: Fetchers from the nilearn.datasets module will be updated in version 0.9 to return python strings instead of bytes and Pandas dataframes instead of Numpy arrays.\n",
      "  warn(\"Fetchers from the nilearn.datasets module will be \"\n"
     ]
    }
   ],
   "source": [
    "import nilearn\n",
    "import sklearn\n",
    "from nilearn import plotting\n",
    "from nilearn import datasets\n",
    "from nilearn import image\n",
    "from nilearn.image import mean_img,math_img,index_img,concat_imgs\n",
    "from nilearn.glm.first_level import make_first_level_design_matrix\n",
    "from nilearn.plotting import plot_design_matrix\n",
    "from nilearn.input_data import NiftiMasker\n",
    "\n",
    "from sklearn.model_selection import KFold\n",
    "from nilearn.decoding import Decoder \n",
    "from sklearn import svm\n",
    "from sklearn.svm import SVC\n",
    "\n",
    "from sklearn.model_selection import cross_val_score\n",
    "\n",
    "import time\n",
    "\n",
    "import numpy as np\n",
    "import pandas as pd\n",
    "import os\n"
   ]
  },
  {
   "cell_type": "code",
   "execution_count": 2,
   "metadata": {},
   "outputs": [],
   "source": [
    "# Set variables\n",
    "ROOT_DATA='/Users/home/Documents/BIDS/'\n",
    "#ROOT_DATA='/home/brunomiguel/Documents/data/BIDS/'\n",
    "SUB='sub-0001'\n",
    "SES='ses-001'\n",
    "TASK='innerspeech'\n",
    "RUN=['run-01','run-02','run-03']\n",
    "\n",
    "# project folder\n",
    "ROOT_PROJECT=\"/Volumes/LANGLYBACKU/MVPA_Speech_project\"\n",
    "\n"
   ]
  },
  {
   "cell_type": "code",
   "execution_count": 3,
   "metadata": {},
   "outputs": [
    {
     "data": {
      "image/png": "[encoded data removed]",
      "text/plain": [
       "<Figure size 525.6x187.2 with 5 Axes>"
      ]
     },
     "metadata": {},
     "output_type": "display_data"
    }
   ],
   "source": [
    "# mask selection\n",
    "dataset = datasets.fetch_atlas_harvard_oxford('cort-maxprob-thr25-2mm') \n",
    "atlas_filename = dataset.maps\n",
    "\n",
    "area_idx=[47,48]\n",
    "area_idx=[4,5]\n",
    "mask = mean_img([math_img('img == %d'  %i, img=atlas_filename) for i in area_idx])\n",
    "plotting.plot_stat_map(mask)\n",
    "\n",
    "masker=NiftiMasker(mask_img=mask, standardize=True)"
   ]
  },
  {
   "cell_type": "code",
   "execution_count": 4,
   "metadata": {},
   "outputs": [
    {
     "data": {
      "text/plain": [
       "{'maps': 'C:\\\\Users\\\\bdireito/nilearn_data\\\\fsl\\\\data\\\\atlases\\\\HarvardOxford\\\\HarvardOxford-cort-maxprob-thr25-2mm.nii.gz',\n",
       " 'labels': ['Background',\n",
       "  'Frontal Pole',\n",
       "  'Insular Cortex',\n",
       "  'Superior Frontal Gyrus',\n",
       "  'Middle Frontal Gyrus',\n",
       "  'Inferior Frontal Gyrus, pars triangularis',\n",
       "  'Inferior Frontal Gyrus, pars opercularis',\n",
       "  'Precentral Gyrus',\n",
       "  'Temporal Pole',\n",
       "  'Superior Temporal Gyrus, anterior division',\n",
       "  'Superior Temporal Gyrus, posterior division',\n",
       "  'Middle Temporal Gyrus, anterior division',\n",
       "  'Middle Temporal Gyrus, posterior division',\n",
       "  'Middle Temporal Gyrus, temporooccipital part',\n",
       "  'Inferior Temporal Gyrus, anterior division',\n",
       "  'Inferior Temporal Gyrus, posterior division',\n",
       "  'Inferior Temporal Gyrus, temporooccipital part',\n",
       "  'Postcentral Gyrus',\n",
       "  'Superior Parietal Lobule',\n",
       "  'Supramarginal Gyrus, anterior division',\n",
       "  'Supramarginal Gyrus, posterior division',\n",
       "  'Angular Gyrus',\n",
       "  'Lateral Occipital Cortex, superior division',\n",
       "  'Lateral Occipital Cortex, inferior division',\n",
       "  'Intracalcarine Cortex',\n",
       "  'Frontal Medial Cortex',\n",
       "  'Juxtapositional Lobule Cortex (formerly Supplementary Motor Cortex)',\n",
       "  'Subcallosal Cortex',\n",
       "  'Paracingulate Gyrus',\n",
       "  'Cingulate Gyrus, anterior division',\n",
       "  'Cingulate Gyrus, posterior division',\n",
       "  'Precuneous Cortex',\n",
       "  'Cuneal Cortex',\n",
       "  'Frontal Orbital Cortex',\n",
       "  'Parahippocampal Gyrus, anterior division',\n",
       "  'Parahippocampal Gyrus, posterior division',\n",
       "  'Lingual Gyrus',\n",
       "  'Temporal Fusiform Cortex, anterior division',\n",
       "  'Temporal Fusiform Cortex, posterior division',\n",
       "  'Temporal Occipital Fusiform Cortex',\n",
       "  'Occipital Fusiform Gyrus',\n",
       "  'Frontal Operculum Cortex',\n",
       "  'Central Opercular Cortex',\n",
       "  'Parietal Operculum Cortex',\n",
       "  'Planum Polare',\n",
       "  \"Heschl's Gyrus (includes H1 and H2)\",\n",
       "  'Planum Temporale',\n",
       "  'Supracalcarine Cortex',\n",
       "  'Occipital Pole']}"
      ]
     },
     "execution_count": 4,
     "metadata": {},
     "output_type": "execute_result"
    }
   ],
   "source": [
    "dataset"
   ]
  },
  {
   "cell_type": "code",
   "execution_count": 5,
   "metadata": {},
   "outputs": [],
   "source": [
    "bs_maps=None\n",
    "classification_target=None\n",
    "\n",
    "for r in RUN:\n",
    "    \n",
    "    # Load data\n",
    "    bs_fn=os.path.join(SUB + '_' + SES + '_task-' + TASK + '_'+ r +'_bold_bs.nii.gz')\n",
    "    bs_map= image.load_img(bs_fn)\n",
    "    \n",
    "    \n",
    "    # Mask data\n",
    "    # masker=NiftiMasker(mask_img=mask, standardize=True)\n",
    "    # mask_timecourse=masker.fit_transform(bs_maps)\n",
    "    \n",
    "    # Load labels\n",
    "    labels_fn=os.path.join(SUB + '_' + SES + '_task-' + TASK + '_'+ r +'_labels.csv')\n",
    "    col_list = [\"0\"]\n",
    "    labels=pd.read_csv(labels_fn, usecols=col_list)\n",
    "    \n",
    "    \n",
    "    if bs_maps is None:\n",
    "        bs_maps=bs_map\n",
    "        classification_target=labels\n",
    "    else:\n",
    "        bs_maps=[bs_maps,bs_map]\n",
    "        classification_target=np.vstack((classification_target, labels))\n",
    "    \n",
    "    del bs_map,labels\n"
   ]
  },
  {
   "cell_type": "code",
   "execution_count": 6,
   "metadata": {},
   "outputs": [
    {
     "name": "stdout",
     "output_type": "stream",
     "text": [
      "(91, 109, 91, 756)\n"
     ]
    }
   ],
   "source": [
    "bs_maps=concat_imgs(bs_maps, auto_resample=True)\n",
    "print(bs_maps.shape)"
   ]
  },
  {
   "cell_type": "code",
   "execution_count": 7,
   "metadata": {},
   "outputs": [],
   "source": [
    "target_tags=['Baseline', 'Syllables', 'Words', 'Phrases', 'Vogals']\n",
    "\n",
    "# Then we define the various classifiers that we use\n",
    "classifiers = ['svc_l1']"
   ]
  },
  {
   "cell_type": "code",
   "execution_count": 20,
   "metadata": {},
   "outputs": [
    {
     "name": "stdout",
     "output_type": "stream",
     "text": [
      "______________________________________________________________________\n"
     ]
    },
    {
     "name": "stderr",
     "output_type": "stream",
     "text": [
      "C:\\ProgramData\\Anaconda3\\lib\\site-packages\\sklearn\\svm\\_base.py:976: ConvergenceWarning: Liblinear failed to converge, increase the number of iterations.\n",
      "  warnings.warn(\"Liblinear failed to converge, increase \"\n",
      "C:\\ProgramData\\Anaconda3\\lib\\site-packages\\sklearn\\svm\\_base.py:976: ConvergenceWarning: Liblinear failed to converge, increase the number of iterations.\n",
      "  warnings.warn(\"Liblinear failed to converge, increase \"\n",
      "C:\\ProgramData\\Anaconda3\\lib\\site-packages\\sklearn\\svm\\_base.py:976: ConvergenceWarning: Liblinear failed to converge, increase the number of iterations.\n",
      "  warnings.warn(\"Liblinear failed to converge, increase \"\n",
      "C:\\ProgramData\\Anaconda3\\lib\\site-packages\\sklearn\\svm\\_base.py:976: ConvergenceWarning: Liblinear failed to converge, increase the number of iterations.\n",
      "  warnings.warn(\"Liblinear failed to converge, increase \"\n"
     ]
    },
    {
     "name": "stdout",
     "output_type": "stream",
     "text": [
      "    svc_l1: 54.41s\n",
      "          Baseline vs all -- ACC: 0.71 +- 0.00\n",
      "         Syllables vs all -- ACC: 0.81 +- 0.01\n",
      "             Words vs all -- ACC: 0.81 +- 0.02\n",
      "           Phrases vs all -- ACC: 0.78 +- 0.03\n",
      "            Vogals vs all -- ACC: 0.79 +- 0.05\n"
     ]
    }
   ],
   "source": [
    "# Here we compute prediction scores and run time for all these\n",
    "# classifiers\n",
    "cv = 3\n",
    "classifiers_data = {}\n",
    "classifiers = ['svc_l1']\n",
    "\n",
    "for classifier_name in classifiers:\n",
    "    print(70 * '_')\n",
    "   \n",
    "    decoder = Decoder(estimator=classifier_name,mask=masker,\n",
    "                      standardize=True, cv=cv, scoring='accuracy')\n",
    "    \n",
    "    t0 = time.time()\n",
    "    decoder.fit(bs_maps, classification_target)\n",
    "\n",
    "    classifiers_data[classifier_name] = {}\n",
    "    classifiers_data[classifier_name]['score'] = decoder.cv_scores_\n",
    "\n",
    "    print(\"%10s: %.2fs\" % (classifier_name, time.time() - t0))\n",
    "    for target_tag in target_tags:\n",
    "        print(\"    %14s vs all -- ACC: %1.2f +- %1.2f\" % (\n",
    "            target_tag,\n",
    "            np.mean(classifiers_data[classifier_name]['score'][target_tag]),\n",
    "            np.std(classifiers_data[classifier_name]['score'][target_tag]))\n",
    "        )\n",
    "\n",
    "    # Adding the average performance per estimator\n",
    "    scores = classifiers_data[classifier_name]['score']\n",
    "    scores['AVERAGE'] = np.mean(list(scores.values()), axis=0)\n",
    "    classifiers_data[classifier_name]['score'] = scores\n",
    "    \n",
    " "
   ]
  },
  {
   "cell_type": "code",
   "execution_count": 21,
   "metadata": {},
   "outputs": [
    {
     "data": {
      "text/plain": [
       "{'Baseline': [0.7142857142857143, 0.7142857142857143, 0.7142857142857143],\n",
       " 'Phrases': [0.7777777777777778, 0.746031746031746, 0.8214285714285714],\n",
       " 'Syllables': [0.7936507936507936, 0.8214285714285714, 0.8214285714285714],\n",
       " 'Vogals': [0.8214285714285714, 0.7182539682539683, 0.8373015873015873],\n",
       " 'Words': [0.7857142857142857, 0.8174603174603174, 0.8214285714285714],\n",
       " 'AVERAGE': array([0.77857143, 0.76349206, 0.8031746 ])}"
      ]
     },
     "execution_count": 21,
     "metadata": {},
     "output_type": "execute_result"
    }
   ],
   "source": [
    "decoder.cv_scores_"
   ]
  },
  {
   "cell_type": "code",
   "execution_count": 9,
   "metadata": {},
   "outputs": [],
   "source": [
    "with open('area_comparison.txt', 'a+') as f:\n",
    "    print(area_idx,file=f)\n",
    "    print(classifiers_data,file=f)"
   ]
  },
  {
   "cell_type": "markdown",
   "metadata": {},
   "source": [
    "## Comparison with Dummy predictor"
   ]
  },
  {
   "cell_type": "code",
   "execution_count": 10,
   "metadata": {},
   "outputs": [
    {
     "name": "stdout",
     "output_type": "stream",
     "text": [
      "______________________________________________________________________\n"
     ]
    },
    {
     "name": "stderr",
     "output_type": "stream",
     "text": [
      "C:\\ProgramData\\Anaconda3\\lib\\site-packages\\nilearn\\decoding\\decoder.py:143: UserWarning: Use a custom estimator at your own risk of the process not working as intended.\n",
      "  warnings.warn('Use a custom estimator at your own risk '\n"
     ]
    },
    {
     "name": "stdout",
     "output_type": "stream",
     "text": [
      "     dummy: 29.61s\n",
      "          Baseline vs all -- ACC: 0.60 +- 0.03\n",
      "         Syllables vs all -- ACC: 0.70 +- 0.02\n",
      "             Words vs all -- ACC: 0.69 +- 0.01\n",
      "           Phrases vs all -- ACC: 0.71 +- 0.04\n",
      "            Vogals vs all -- ACC: 0.72 +- 0.01\n"
     ]
    }
   ],
   "source": [
    "from sklearn.dummy import DummyClassifier\n",
    "# Here we compute prediction scores and run time for all these\n",
    "# classifiers\n",
    "import time\n",
    "\n",
    "cv = 5\n",
    "classifiers_data = {}\n",
    "classifiers=['dummy']\n",
    "\n",
    "for classifier_name in classifiers:\n",
    "    print(70 * '_')\n",
    "\n",
    "    # The decoder has as default score the `roc_auc`\n",
    "    decoder = Decoder(estimator=DummyClassifier(strategy='stratified'),mask=masker,cv=cv,\n",
    "                      standardize=True, scoring='accuracy')\n",
    " \n",
    "    t0 = time.time()\n",
    "    decoder.fit(bs_maps, classification_target)\n",
    "\n",
    "    classifiers_data[classifier_name] = {}\n",
    "    classifiers_data[classifier_name]['score'] = decoder.cv_scores_\n",
    "\n",
    "    print(\"%10s: %.2fs\" % (classifier_name, time.time() - t0))\n",
    "    for target_tag in target_tags:\n",
    "        print(\"    %14s vs all -- ACC: %1.2f +- %1.2f\" % (\n",
    "            target_tag,\n",
    "            np.mean(classifiers_data[classifier_name]['score'][target_tag]),\n",
    "            np.std(classifiers_data[classifier_name]['score'][target_tag]))\n",
    "        )\n",
    "\n",
    "    # Adding the average performance per estimator\n",
    "    scores = classifiers_data[classifier_name]['score']\n",
    "    scores['AVERAGE'] = np.mean(list(scores.values()), axis=0)\n",
    "    classifiers_data[classifier_name]['score'] = scores\n",
    "    "
   ]
  },
  {
   "cell_type": "code",
   "execution_count": null,
   "metadata": {},
   "outputs": [],
   "source": []
  },
  {
   "cell_type": "code",
   "execution_count": null,
   "metadata": {},
   "outputs": [],
   "source": []
  },
  {
   "cell_type": "code",
   "execution_count": null,
   "metadata": {},
   "outputs": [],
   "source": [
    "mask_timecourse=masker.fit_transform(bs_maps)\n",
    "null_cv_scores = cross_val_score(\n",
    "    DummyClassifier(strategy='prior'),mask_timecourse, classification_target, scoring='accuracy')\n",
    "print(null_cv_scores)"
   ]
  },
  {
   "cell_type": "code",
   "execution_count": null,
   "metadata": {},
   "outputs": [],
   "source": [
    "dummy_clf = DummyClassifier()\n",
    "dummy_clf.fit(mask_timecourse, classification_target)\n",
    "\n",
    "dummy_clf.score(mask_timecourse, classification_target)\n"
   ]
  },
  {
   "cell_type": "markdown",
   "metadata": {},
   "source": [
    "## Playing with other masks\n"
   ]
  },
  {
   "cell_type": "code",
   "execution_count": null,
   "metadata": {},
   "outputs": [],
   "source": [
    "from nilearn.datasets import fetch_icbm152_brain_gm_mask\n",
    "brain_mask = fetch_icbm152_brain_gm_mask()\n",
    "\n",
    "\n",
    "# Then we define the various classifiers that we use\n",
    "classifiers = ['svc_l1','logistic_l1']\n",
    "\n",
    "\n",
    "# Here we compute prediction scores and run time for all these\n",
    "# classifiers\n",
    "import time\n",
    "\n",
    "cv = 5\n",
    "classifiers_data = {}\n",
    "\n",
    "for classifier_name in classifiers:\n",
    "    print(70 * '_')\n",
    "\n",
    "    # The decoder has as default score the `roc_auc`\n",
    "    decoder = Decoder(estimator=classifier_name,mask=brain_mask,\n",
    "                      standardize=True, cv=cv, scoring='accuracy')\n",
    "    t0 = time.time()\n",
    "    decoder.fit(bs_maps, classification_target)\n",
    "\n",
    "    classifiers_data[classifier_name] = {}\n",
    "    classifiers_data[classifier_name]['score'] = decoder.cv_scores_\n",
    "\n",
    "    print(\"%10s: %.2fs\" % (classifier_name, time.time() - t0))\n",
    "    for target_tag in target_tags:\n",
    "        print(\"    %14s vs all -- AUC: %1.2f +- %1.2f\" % (\n",
    "            target_tag,\n",
    "            np.mean(classifiers_data[classifier_name]['score'][target_tag]),\n",
    "            np.std(classifiers_data[classifier_name]['score'][target_tag]))\n",
    "        )\n",
    "\n",
    "    # Adding the average performance per estimator\n",
    "    scores = classifiers_data[classifier_name]['score']\n",
    "    scores['AVERAGE'] = np.mean(list(scores.values()), axis=0)\n",
    "    classifiers_data[classifier_name]['score'] = scores"
   ]
  },
  {
   "cell_type": "code",
   "execution_count": null,
   "metadata": {},
   "outputs": [],
   "source": []
  }
 ],
 "metadata": {
  "kernelspec": {
   "display_name": "Python 3",
   "language": "python",
   "name": "python3"
  },
  "language_info": {
   "codemirror_mode": {
    "name": "ipython",
    "version": 3
   },
   "file_extension": ".py",
   "mimetype": "text/x-python",
   "name": "python",
   "nbconvert_exporter": "python",
   "pygments_lexer": "ipython3",
   "version": "3.8.5"
  }
 },
 "nbformat": 4,
 "nbformat_minor": 4
}
