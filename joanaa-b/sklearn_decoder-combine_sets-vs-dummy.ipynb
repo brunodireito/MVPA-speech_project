{
 "cells": [
  {
   "cell_type": "code",
   "execution_count": 101,
   "metadata": {},
   "outputs": [],
   "source": [
    "import nilearn\n",
    "import sklearn\n",
    "from nilearn import plotting\n",
    "from nilearn import datasets\n",
    "from nilearn import image\n",
    "from nilearn.image import mean_img,math_img,index_img,concat_imgs\n",
    "from nilearn.glm.first_level import make_first_level_design_matrix\n",
    "from nilearn.plotting import plot_design_matrix\n",
    "from nilearn.input_data import NiftiMasker\n",
    "\n",
    "from sklearn.model_selection import KFold, cross_val_score, train_test_split\n",
    "from nilearn.decoding import Decoder \n",
    "from sklearn import svm\n",
    "from sklearn.svm import LinearSVC, SVC\n",
    "\n",
    "import time\n",
    "\n",
    "import numpy as np\n",
    "import pandas as pd\n",
    "import os\n"
   ]
  },
  {
   "cell_type": "code",
   "execution_count": 75,
   "metadata": {},
   "outputs": [],
   "source": [
    "# Set variables\n",
    "ROOT_DATA='/Users/home/Documents/BIDS/'\n",
    "#ROOT_DATA='/home/brunomiguel/Documents/data/BIDS/'\n",
    "SUB='sub-0001'\n",
    "SES='ses-001'\n",
    "TASK='innerspeech'\n",
    "RUN=['run-01','run-02','run-03']\n",
    "\n",
    "# project folder\n",
    "ROOT_PROJECT=\"/Volumes/LANGLYBACKU/MVPA_Speech_project\"\n",
    "\n"
   ]
  },
  {
   "cell_type": "code",
   "execution_count": 77,
   "metadata": {},
   "outputs": [
    {
     "data": {
      "image/png": "[encoded data removed]",
      "text/plain": [
       "<Figure size 525.6x187.2 with 5 Axes>"
      ]
     },
     "metadata": {},
     "output_type": "display_data"
    }
   ],
   "source": [
    "# mask selection\n",
    "dataset = datasets.fetch_atlas_harvard_oxford('cort-maxprob-thr25-2mm') \n",
    "atlas_filename = dataset.maps\n",
    "\n",
    "area_idx=[47,48]\n",
    "area_idx=[5,6]\n",
    "area_idx=[9,10, 5, 6]\n",
    "\n",
    "mask = mean_img([math_img('img == %d'  %i, img=atlas_filename) for i in area_idx])\n",
    "plotting.plot_stat_map(mask)\n",
    "\n",
    "\n",
    "mask_fn=os.path.join(SUB + '_' + SES + '_task-' + TASK + '_'+ RUN[0] +'_mask.nii.gz')\n",
    "mask= image.load_img(mask_fn)\n",
    "\n",
    "masker=NiftiMasker(mask_img=mask, standardize=True)"
   ]
  },
  {
   "cell_type": "code",
   "execution_count": 78,
   "metadata": {},
   "outputs": [
    {
     "data": {
      "text/plain": [
       "{'maps': 'C:\\\\Users\\\\bdireito/nilearn_data\\\\fsl\\\\data\\\\atlases\\\\HarvardOxford\\\\HarvardOxford-cort-maxprob-thr25-2mm.nii.gz',\n",
       " 'labels': ['Background',\n",
       "  'Frontal Pole',\n",
       "  'Insular Cortex',\n",
       "  'Superior Frontal Gyrus',\n",
       "  'Middle Frontal Gyrus',\n",
       "  'Inferior Frontal Gyrus, pars triangularis',\n",
       "  'Inferior Frontal Gyrus, pars opercularis',\n",
       "  'Precentral Gyrus',\n",
       "  'Temporal Pole',\n",
       "  'Superior Temporal Gyrus, anterior division',\n",
       "  'Superior Temporal Gyrus, posterior division',\n",
       "  'Middle Temporal Gyrus, anterior division',\n",
       "  'Middle Temporal Gyrus, posterior division',\n",
       "  'Middle Temporal Gyrus, temporooccipital part',\n",
       "  'Inferior Temporal Gyrus, anterior division',\n",
       "  'Inferior Temporal Gyrus, posterior division',\n",
       "  'Inferior Temporal Gyrus, temporooccipital part',\n",
       "  'Postcentral Gyrus',\n",
       "  'Superior Parietal Lobule',\n",
       "  'Supramarginal Gyrus, anterior division',\n",
       "  'Supramarginal Gyrus, posterior division',\n",
       "  'Angular Gyrus',\n",
       "  'Lateral Occipital Cortex, superior division',\n",
       "  'Lateral Occipital Cortex, inferior division',\n",
       "  'Intracalcarine Cortex',\n",
       "  'Frontal Medial Cortex',\n",
       "  'Juxtapositional Lobule Cortex (formerly Supplementary Motor Cortex)',\n",
       "  'Subcallosal Cortex',\n",
       "  'Paracingulate Gyrus',\n",
       "  'Cingulate Gyrus, anterior division',\n",
       "  'Cingulate Gyrus, posterior division',\n",
       "  'Precuneous Cortex',\n",
       "  'Cuneal Cortex',\n",
       "  'Frontal Orbital Cortex',\n",
       "  'Parahippocampal Gyrus, anterior division',\n",
       "  'Parahippocampal Gyrus, posterior division',\n",
       "  'Lingual Gyrus',\n",
       "  'Temporal Fusiform Cortex, anterior division',\n",
       "  'Temporal Fusiform Cortex, posterior division',\n",
       "  'Temporal Occipital Fusiform Cortex',\n",
       "  'Occipital Fusiform Gyrus',\n",
       "  'Frontal Operculum Cortex',\n",
       "  'Central Opercular Cortex',\n",
       "  'Parietal Operculum Cortex',\n",
       "  'Planum Polare',\n",
       "  \"Heschl's Gyrus (includes H1 and H2)\",\n",
       "  'Planum Temporale',\n",
       "  'Supracalcarine Cortex',\n",
       "  'Occipital Pole']}"
      ]
     },
     "execution_count": 78,
     "metadata": {},
     "output_type": "execute_result"
    }
   ],
   "source": [
    "dataset"
   ]
  },
  {
   "cell_type": "code",
   "execution_count": 79,
   "metadata": {},
   "outputs": [],
   "source": [
    "bs_maps=None\n",
    "classification_target=None\n",
    "\n",
    "for r in RUN:\n",
    "    \n",
    "    # Load data\n",
    "    bs_fn=os.path.join(SUB + '_' + SES + '_task-' + TASK + '_'+ r +'_bold_bs.nii.gz')\n",
    "    bs_map= image.load_img(bs_fn)\n",
    "    \n",
    "    \n",
    "    # Mask data\n",
    "    # masker=NiftiMasker(mask_img=mask, standardize=True)\n",
    "    # mask_timecourse=masker.fit_transform(bs_maps)\n",
    "    \n",
    "    # Load labels\n",
    "    labels_fn=os.path.join(SUB + '_' + SES + '_task-' + TASK + '_'+ r +'_labels.csv')\n",
    "    col_list = [\"0\"]\n",
    "    labels=pd.read_csv(labels_fn, usecols=col_list)\n",
    "    \n",
    "    \n",
    "    if bs_maps is None:\n",
    "        bs_maps=bs_map\n",
    "        classification_target=labels\n",
    "    else:\n",
    "        bs_maps=[bs_maps,bs_map]\n",
    "        classification_target=np.vstack((classification_target, labels))\n",
    "    \n",
    "    del bs_map,labels\n"
   ]
  },
  {
   "cell_type": "code",
   "execution_count": 80,
   "metadata": {},
   "outputs": [
    {
     "name": "stdout",
     "output_type": "stream",
     "text": [
      "(91, 109, 91, 756)\n"
     ]
    }
   ],
   "source": [
    "bs_maps=concat_imgs(bs_maps, auto_resample=True)\n",
    "print(bs_maps.shape)"
   ]
  },
  {
   "cell_type": "code",
   "execution_count": 103,
   "metadata": {},
   "outputs": [],
   "source": [
    "target_tags=['Baseline', 'Syllables', 'Words', 'Phrases', 'Vogals']\n",
    "\n",
    "# Here we compute prediction scores and run time for all these\n",
    "# classifiers\n",
    "classifiers = ['svc_rbf']\n",
    "\n",
    "cv = 5\n",
    "classifiers_data = {}\n",
    "mask_timecourse=masker.fit_transform(bs_maps)\n",
    "\n",
    "X_train, X_test, y_train, y_test = train_test_split(mask_timecourse, classification_target, test_size=0.2, random_state=10)"
   ]
  },
  {
   "cell_type": "code",
   "execution_count": 104,
   "metadata": {},
   "outputs": [
    {
     "name": "stdout",
     "output_type": "stream",
     "text": [
      "______________________________________________________________________\n"
     ]
    },
    {
     "name": "stderr",
     "output_type": "stream",
     "text": [
      "C:\\ProgramData\\Anaconda3\\lib\\site-packages\\sklearn\\utils\\validation.py:72: DataConversionWarning: A column-vector y was passed when a 1d array was expected. Please change the shape of y to (n_samples, ), for example using ravel().\n",
      "  return f(**kwargs)\n",
      "C:\\ProgramData\\Anaconda3\\lib\\site-packages\\sklearn\\utils\\validation.py:72: DataConversionWarning: A column-vector y was passed when a 1d array was expected. Please change the shape of y to (n_samples, ), for example using ravel().\n",
      "  return f(**kwargs)\n",
      "C:\\ProgramData\\Anaconda3\\lib\\site-packages\\sklearn\\utils\\validation.py:72: DataConversionWarning: A column-vector y was passed when a 1d array was expected. Please change the shape of y to (n_samples, ), for example using ravel().\n",
      "  return f(**kwargs)\n",
      "C:\\ProgramData\\Anaconda3\\lib\\site-packages\\sklearn\\utils\\validation.py:72: DataConversionWarning: A column-vector y was passed when a 1d array was expected. Please change the shape of y to (n_samples, ), for example using ravel().\n",
      "  return f(**kwargs)\n",
      "C:\\ProgramData\\Anaconda3\\lib\\site-packages\\sklearn\\utils\\validation.py:72: DataConversionWarning: A column-vector y was passed when a 1d array was expected. Please change the shape of y to (n_samples, ), for example using ravel().\n",
      "  return f(**kwargs)\n",
      "C:\\ProgramData\\Anaconda3\\lib\\site-packages\\sklearn\\utils\\validation.py:72: DataConversionWarning: A column-vector y was passed when a 1d array was expected. Please change the shape of y to (n_samples, ), for example using ravel().\n",
      "  return f(**kwargs)\n"
     ]
    },
    {
     "name": "stdout",
     "output_type": "stream",
     "text": [
      "    svc_l1: 16.65s\n",
      "{'svc_l1': {'train_score': array([0.31578947, 0.30463576, 0.31788079, 0.32450331, 0.26490066])}}\n"
     ]
    }
   ],
   "source": [
    "for classifier_name in classifiers:\n",
    "    print(70 * '_')\n",
    "\n",
    "    ## TRAIN\n",
    "   \n",
    "    decoder = SVC(kernel='rbf')\n",
    "\n",
    "    t0 = time.time()\n",
    "    decoder.fit(X_train, y_train)\n",
    "\n",
    "    classifiers_data[classifier_name] = {}\n",
    "    \n",
    "    classifiers_data[classifier_name]['train_score'] = cross_val_score(decoder, mask_timecourse, classification_target, cv=cv, scoring='accuracy')\n",
    "\n",
    "    print(\"%10s: %.2fs\" % (classifier_name, time.time() - t0))\n",
    "    print(classifiers_data)\n",
    "    \n",
    "    ## TESTE\n",
    "    \n",
    "    classifiers_data[classifier_name]['test_score'] =decoder.score(X_test, y_test)\n",
    "    \n",
    "\n",
    "\n"
   ]
  },
  {
   "cell_type": "code",
   "execution_count": 107,
   "metadata": {},
   "outputs": [
    {
     "data": {
      "text/plain": [
       "array(['Phrases', 'Baseline', 'Baseline', 'Baseline', 'Baseline',\n",
       "       'Baseline', 'Phrases', 'Baseline', 'Baseline', 'Baseline', 'Words',\n",
       "       'Baseline', 'Baseline', 'Syllables', 'Phrases', 'Syllables',\n",
       "       'Baseline', 'Baseline', 'Phrases', 'Baseline', 'Vogals',\n",
       "       'Syllables', 'Baseline', 'Baseline', 'Baseline', 'Words',\n",
       "       'Baseline', 'Baseline', 'Syllables', 'Syllables', 'Vogals',\n",
       "       'Syllables', 'Baseline', 'Vogals', 'Syllables', 'Baseline',\n",
       "       'Phrases', 'Syllables', 'Baseline', 'Words', 'Vogals', 'Baseline',\n",
       "       'Words', 'Baseline', 'Baseline', 'Vogals', 'Baseline', 'Baseline',\n",
       "       'Phrases', 'Syllables', 'Words', 'Baseline', 'Baseline',\n",
       "       'Baseline', 'Baseline', 'Vogals', 'Phrases', 'Baseline',\n",
       "       'Baseline', 'Vogals', 'Baseline', 'Vogals', 'Words', 'Baseline',\n",
       "       'Vogals', 'Baseline', 'Phrases', 'Syllables', 'Baseline',\n",
       "       'Syllables', 'Baseline', 'Baseline', 'Baseline', 'Baseline',\n",
       "       'Baseline', 'Phrases', 'Syllables', 'Baseline', 'Baseline',\n",
       "       'Words', 'Words', 'Baseline', 'Vogals', 'Baseline', 'Baseline',\n",
       "       'Baseline', 'Words', 'Baseline', 'Baseline', 'Baseline', 'Vogals',\n",
       "       'Vogals', 'Baseline', 'Baseline', 'Baseline', 'Phrases', 'Phrases',\n",
       "       'Baseline', 'Baseline', 'Baseline', 'Baseline', 'Syllables',\n",
       "       'Baseline', 'Baseline', 'Phrases', 'Baseline', 'Words', 'Baseline',\n",
       "       'Vogals', 'Words', 'Vogals', 'Vogals', 'Words', 'Baseline',\n",
       "       'Baseline', 'Baseline', 'Baseline', 'Vogals', 'Phrases',\n",
       "       'Syllables', 'Baseline', 'Baseline', 'Vogals', 'Baseline',\n",
       "       'Syllables', 'Syllables', 'Words', 'Phrases', 'Baseline',\n",
       "       'Baseline', 'Syllables', 'Baseline', 'Baseline', 'Baseline',\n",
       "       'Baseline', 'Baseline', 'Baseline', 'Vogals', 'Baseline',\n",
       "       'Phrases', 'Vogals', 'Syllables', 'Words', 'Baseline', 'Baseline',\n",
       "       'Baseline', 'Baseline', 'Baseline', 'Phrases', 'Baseline',\n",
       "       'Baseline', 'Phrases'], dtype=object)"
      ]
     },
     "execution_count": 107,
     "metadata": {},
     "output_type": "execute_result"
    }
   ],
   "source": [
    "decoder.predict(X_test)"
   ]
  },
  {
   "cell_type": "code",
   "execution_count": 108,
   "metadata": {},
   "outputs": [
    {
     "data": {
      "text/plain": [
       "array([['Phrases'],\n",
       "       ['Baseline'],\n",
       "       ['Vogals'],\n",
       "       ['Baseline'],\n",
       "       ['Baseline'],\n",
       "       ['Baseline'],\n",
       "       ['Phrases'],\n",
       "       ['Baseline'],\n",
       "       ['Baseline'],\n",
       "       ['Phrases'],\n",
       "       ['Words'],\n",
       "       ['Baseline'],\n",
       "       ['Vogals'],\n",
       "       ['Syllables'],\n",
       "       ['Phrases'],\n",
       "       ['Baseline'],\n",
       "       ['Baseline'],\n",
       "       ['Baseline'],\n",
       "       ['Phrases'],\n",
       "       ['Phrases'],\n",
       "       ['Vogals'],\n",
       "       ['Syllables'],\n",
       "       ['Syllables'],\n",
       "       ['Baseline'],\n",
       "       ['Words'],\n",
       "       ['Baseline'],\n",
       "       ['Words'],\n",
       "       ['Baseline'],\n",
       "       ['Syllables'],\n",
       "       ['Syllables'],\n",
       "       ['Vogals'],\n",
       "       ['Syllables'],\n",
       "       ['Baseline'],\n",
       "       ['Vogals'],\n",
       "       ['Syllables'],\n",
       "       ['Baseline'],\n",
       "       ['Phrases'],\n",
       "       ['Syllables'],\n",
       "       ['Baseline'],\n",
       "       ['Words'],\n",
       "       ['Vogals'],\n",
       "       ['Words'],\n",
       "       ['Words'],\n",
       "       ['Baseline'],\n",
       "       ['Phrases'],\n",
       "       ['Vogals'],\n",
       "       ['Words'],\n",
       "       ['Vogals'],\n",
       "       ['Phrases'],\n",
       "       ['Baseline'],\n",
       "       ['Words'],\n",
       "       ['Words'],\n",
       "       ['Baseline'],\n",
       "       ['Words'],\n",
       "       ['Vogals'],\n",
       "       ['Vogals'],\n",
       "       ['Phrases'],\n",
       "       ['Baseline'],\n",
       "       ['Vogals'],\n",
       "       ['Vogals'],\n",
       "       ['Baseline'],\n",
       "       ['Vogals'],\n",
       "       ['Words'],\n",
       "       ['Baseline'],\n",
       "       ['Vogals'],\n",
       "       ['Baseline'],\n",
       "       ['Phrases'],\n",
       "       ['Syllables'],\n",
       "       ['Baseline'],\n",
       "       ['Syllables'],\n",
       "       ['Words'],\n",
       "       ['Baseline'],\n",
       "       ['Baseline'],\n",
       "       ['Phrases'],\n",
       "       ['Baseline'],\n",
       "       ['Phrases'],\n",
       "       ['Syllables'],\n",
       "       ['Baseline'],\n",
       "       ['Vogals'],\n",
       "       ['Words'],\n",
       "       ['Words'],\n",
       "       ['Phrases'],\n",
       "       ['Vogals'],\n",
       "       ['Phrases'],\n",
       "       ['Words'],\n",
       "       ['Baseline'],\n",
       "       ['Words'],\n",
       "       ['Syllables'],\n",
       "       ['Vogals'],\n",
       "       ['Baseline'],\n",
       "       ['Vogals'],\n",
       "       ['Vogals'],\n",
       "       ['Words'],\n",
       "       ['Baseline'],\n",
       "       ['Words'],\n",
       "       ['Phrases'],\n",
       "       ['Phrases'],\n",
       "       ['Baseline'],\n",
       "       ['Baseline'],\n",
       "       ['Phrases'],\n",
       "       ['Baseline'],\n",
       "       ['Syllables'],\n",
       "       ['Phrases'],\n",
       "       ['Phrases'],\n",
       "       ['Phrases'],\n",
       "       ['Baseline'],\n",
       "       ['Words'],\n",
       "       ['Phrases'],\n",
       "       ['Vogals'],\n",
       "       ['Words'],\n",
       "       ['Vogals'],\n",
       "       ['Vogals'],\n",
       "       ['Words'],\n",
       "       ['Phrases'],\n",
       "       ['Phrases'],\n",
       "       ['Baseline'],\n",
       "       ['Baseline'],\n",
       "       ['Vogals'],\n",
       "       ['Phrases'],\n",
       "       ['Syllables'],\n",
       "       ['Baseline'],\n",
       "       ['Words'],\n",
       "       ['Vogals'],\n",
       "       ['Vogals'],\n",
       "       ['Syllables'],\n",
       "       ['Syllables'],\n",
       "       ['Words'],\n",
       "       ['Phrases'],\n",
       "       ['Baseline'],\n",
       "       ['Words'],\n",
       "       ['Syllables'],\n",
       "       ['Syllables'],\n",
       "       ['Words'],\n",
       "       ['Baseline'],\n",
       "       ['Words'],\n",
       "       ['Baseline'],\n",
       "       ['Baseline'],\n",
       "       ['Vogals'],\n",
       "       ['Baseline'],\n",
       "       ['Baseline'],\n",
       "       ['Vogals'],\n",
       "       ['Syllables'],\n",
       "       ['Words'],\n",
       "       ['Phrases'],\n",
       "       ['Phrases'],\n",
       "       ['Baseline'],\n",
       "       ['Baseline'],\n",
       "       ['Phrases'],\n",
       "       ['Phrases'],\n",
       "       ['Phrases'],\n",
       "       ['Baseline'],\n",
       "       ['Phrases']], dtype=object)"
      ]
     },
     "execution_count": 108,
     "metadata": {},
     "output_type": "execute_result"
    }
   ],
   "source": [
    "y_test"
   ]
  },
  {
   "cell_type": "code",
   "execution_count": null,
   "metadata": {},
   "outputs": [],
   "source": [
    "with open('area_comparison.txt', 'a+') as f:\n",
    "    print(area_idx,file=f)\n",
    "    print(classifiers_data,file=f)"
   ]
  },
  {
   "cell_type": "markdown",
   "metadata": {},
   "source": [
    "## Comparison with Dummy predictor"
   ]
  },
  {
   "cell_type": "code",
   "execution_count": 88,
   "metadata": {},
   "outputs": [
    {
     "name": "stdout",
     "output_type": "stream",
     "text": [
      "______________________________________________________________________\n",
      "    svc_l1: 0.03s\n",
      "{'svc_l1': {'score': array([0.17105263, 0.16556291, 0.19205298, 0.19205298, 0.19205298])}}\n"
     ]
    }
   ],
   "source": [
    "from sklearn.dummy import DummyClassifier\n",
    "\n",
    "for classifier_name in classifiers:\n",
    "    print(70 * '_')\n",
    "\n",
    "    # The decoder has as default score the `roc_auc`\n",
    "    decoder = DummyClassifier(strategy='uniform')\n",
    "    \n",
    "    t0 = time.time()\n",
    "    decoder.fit(mask_timecourse, classification_target)\n",
    "\n",
    "    classifiers_data[classifier_name] = {}\n",
    "    \n",
    "    classifiers_data[classifier_name]['score'] = cross_val_score(decoder, mask_timecourse, classification_target, cv=cv, scoring='accuracy')\n",
    "\n",
    "    print(\"%10s: %.2fs\" % (classifier_name, time.time() - t0))\n",
    "    print(classifiers_data)\n",
    "   "
   ]
  },
  {
   "cell_type": "code",
   "execution_count": 89,
   "metadata": {},
   "outputs": [
    {
     "name": "stdout",
     "output_type": "stream",
     "text": [
      "[0.21052632 0.20529801 0.22516556 0.20529801 0.21854305]\n"
     ]
    },
    {
     "name": "stderr",
     "output_type": "stream",
     "text": [
      "C:\\ProgramData\\Anaconda3\\lib\\site-packages\\sklearn\\dummy.py:131: FutureWarning: The default value of strategy will change from stratified to prior in 0.24.\n",
      "  warnings.warn(\"The default value of strategy will change from \"\n"
     ]
    }
   ],
   "source": [
    "null_cv_scores = cross_val_score(\n",
    "    DummyClassifier(),mask_timecourse, classification_target, cv=cv)\n",
    "print(null_cv_scores)"
   ]
  },
  {
   "cell_type": "code",
   "execution_count": null,
   "metadata": {},
   "outputs": [],
   "source": []
  }
 ],
 "metadata": {
  "kernelspec": {
   "display_name": "Python 3",
   "language": "python",
   "name": "python3"
  },
  "language_info": {
   "codemirror_mode": {
    "name": "ipython",
    "version": 3
   },
   "file_extension": ".py",
   "mimetype": "text/x-python",
   "name": "python",
   "nbconvert_exporter": "python",
   "pygments_lexer": "ipython3",
   "version": "3.8.5"
  }
 },
 "nbformat": 4,
 "nbformat_minor": 4
}
