{
 "cells": [
  {
   "cell_type": "code",
   "execution_count": 3,
   "metadata": {},
   "outputs": [
    {
     "name": "stderr",
     "output_type": "stream",
     "text": [
      "/Users/home/.local/lib/python3.8/site-packages/nilearn/datasets/__init__.py:87: FutureWarning: Fetchers from the nilearn.datasets module will be updated in version 0.9 to return python strings instead of bytes and Pandas dataframes instead of Numpy arrays.\n",
      "  warn(\"Fetchers from the nilearn.datasets module will be \"\n"
     ]
    }
   ],
   "source": [
    "import nilearn\n",
    "import sklearn\n",
    "from nilearn import plotting\n",
    "from nilearn import datasets\n",
    "from nilearn import image\n",
    "from nilearn.image import mean_img\n",
    "from nilearn.image import index_img\n",
    "from nilearn.glm.first_level import make_first_level_design_matrix\n",
    "from nilearn.plotting import plot_design_matrix\n",
    "\n",
    "from sklearn.model_selection import KFold\n",
    "from nilearn.decoding import Decoder \n",
    "\n",
    "from sklearn import svm\n",
    "from sklearn.svm import SVC\n",
    "from nilearn.input_data import NiftiMasker\n",
    "from sklearn.model_selection import cross_val_score\n",
    "\n",
    "import numpy as np\n",
    "import pandas as pd\n",
    "import os\n"
   ]
  },
  {
   "cell_type": "code",
   "execution_count": 4,
   "metadata": {},
   "outputs": [
    {
     "name": "stdout",
     "output_type": "stream",
     "text": [
      "The data is in this folder - /Users/home/Documents/BIDS/sub-0001/ses-001\n"
     ]
    }
   ],
   "source": [
    "# Set variables\n",
    "ROOT_DATA='/Users/home/Documents/BIDS/'\n",
    "#ROOT_DATA='/home/brunomiguel/Documents/data/BIDS/'\n",
    "SUB='sub-0001'\n",
    "SES='ses-001'\n",
    "TASK='innerspeech'\n",
    "RUN='run-02'\n",
    "\n",
    "\n",
    "# data folder\n",
    "data_path=os.path.join(ROOT_DATA, SUB, SES)\n",
    "print('The data is in this folder - ' + data_path)\n",
    "\n",
    "# project folder\n",
    "ROOT_PROJECT=\"/Volumes/LANGLYBACKU/MVPA_Speech_project\"\n"
   ]
  },
  {
   "cell_type": "code",
   "execution_count": 5,
   "metadata": {},
   "outputs": [],
   "source": [
    "\n",
    "# Load mask\n",
    "mask_fn=os.path.join(SUB + '_' + SES + '_task-' + TASK + '_'+ RUN +'_mask.nii.gz')\n",
    "brain_mask= image.load_img(mask_fn)\n",
    "\n",
    "# Load data\n",
    "bs_fn=os.path.join(SUB + '_' + SES + '_task-' + TASK + '_'+ RUN +'_bold_bs.nii.gz')\n",
    "bs_maps= image.load_img(bs_fn)\n",
    "\n",
    "# Load labels\n",
    "labels_fn=os.path.join(SUB + '_' + SES + '_task-' + TASK + '_'+ RUN +'_labels.csv')\n",
    "col_list = [\"0\"]\n",
    "labels=pd.read_csv(labels_fn, usecols=col_list)\n"
   ]
  },
  {
   "cell_type": "code",
   "execution_count": 6,
   "metadata": {},
   "outputs": [
    {
     "data": {
      "text/plain": [
       "(91, 109, 91, 252)"
      ]
     },
     "execution_count": 6,
     "metadata": {},
     "output_type": "execute_result"
    }
   ],
   "source": [
    "bs_maps.shape\n"
   ]
  },
  {
   "cell_type": "code",
   "execution_count": 7,
   "metadata": {},
   "outputs": [],
   "source": [
    "conditions=labels['0']"
   ]
  },
  {
   "cell_type": "markdown",
   "metadata": {},
   "source": [
    "## Decoder"
   ]
  },
  {
   "cell_type": "code",
   "execution_count": 8,
   "metadata": {},
   "outputs": [],
   "source": [
    "svc = SVC()\n",
    "cv="
   ]
  },
  {
   "cell_type": "code",
   "execution_count": 9,
   "metadata": {},
   "outputs": [
    {
     "name": "stdout",
     "output_type": "stream",
     "text": [
      "(252, 7797)\n"
     ]
    }
   ],
   "source": [
    "masker_f = NiftiMasker(mask_img=brain_mask, standardize=True)\n",
    "fmri_masked = masker_f.fit_transform(bs_maps)\n",
    "print(fmri_masked.shape)"
   ]
  },
  {
   "cell_type": "code",
   "execution_count": 10,
   "metadata": {},
   "outputs": [
    {
     "name": "stdout",
     "output_type": "stream",
     "text": [
      "(252, 15594)\n"
     ]
    }
   ],
   "source": [
    "t=np.hstack((fmri_masked,fmri_masked))\n",
    "print(t.shape)"
   ]
  },
  {
   "cell_type": "code",
   "execution_count": null,
   "metadata": {},
   "outputs": [],
   "source": [
    "masker_all = NiftiMasker(standardize=True)\n",
    "fmri_all = masker_all.fit_transform(bs_maps)\n",
    "print(fmri_all.shape)"
   ]
  },
  {
   "cell_type": "code",
   "execution_count": null,
   "metadata": {},
   "outputs": [],
   "source": [
    "lin_clf = svm.LinearSVC()\n",
    "lin_clf.fit(fmri_all, conditions)\n"
   ]
  },
  {
   "cell_type": "code",
   "execution_count": null,
   "metadata": {},
   "outputs": [],
   "source": [
    "lin_clf.coef_.shape"
   ]
  },
  {
   "cell_type": "code",
   "execution_count": null,
   "metadata": {},
   "outputs": [],
   "source": [
    "cv_scores = cross_val_score(lin_clf, fmri_masked, conditions, cv=cv, scoring=\"balanced_accuracy\")\n",
    "print(\"Model accuracy: {:.3f}\".format(cv_scores.mean()))"
   ]
  },
  {
   "cell_type": "code",
   "execution_count": null,
   "metadata": {},
   "outputs": [],
   "source": [
    "\n",
    "cv_scores = cross_val_score(svc, fmri_masked, conditions, cv=cv, scoring=\"balanced_accuracy\")\n",
    "print(\"Model accuracy: {:.3f}\".format(cv_scores.mean()))\n",
    "\n",
    "cv_scores_all = cross_val_score(svc, fmri_all, conditions, cv=cv, scoring=\"balanced_accuracy\")\n",
    "print(\"Model accuracy: {:.3f}\".format(cv_scores.mean()))"
   ]
  },
  {
   "cell_type": "code",
   "execution_count": null,
   "metadata": {},
   "outputs": [],
   "source": [
    "svc_coef = lin_clf.coef_\n",
    "\n",
    "weight_img = masker_all.inverse_transform(svc_coef[0,:])\n",
    "\n",
    "\n",
    "plot_stat_map(weight_img, title='SVC weights',threshold=.005)\n",
    "\n",
    "#mean_svc_coef=mean_img(svc_coef)\n",
    "#plot_stat_map(mean_svc_coef, title='SVC weights')"
   ]
  },
  {
   "cell_type": "code",
   "execution_count": null,
   "metadata": {},
   "outputs": [],
   "source": [
    "lin_clf.predict(fmri_all)"
   ]
  },
  {
   "cell_type": "code",
   "execution_count": null,
   "metadata": {},
   "outputs": [],
   "source": [
    "from sklearn.dummy import DummyClassifier\n",
    "null_cv_scores = cross_val_score(\n",
    "    DummyClassifier(), fmri_all, conditions, cv=cv)\n",
    "\n",
    "print(\"Dummy accuracy: {:.3f}\".format(null_cv_scores.mean()))"
   ]
  },
  {
   "cell_type": "markdown",
   "metadata": {},
   "source": [
    "## Decoding without mask"
   ]
  },
  {
   "cell_type": "code",
   "execution_count": null,
   "metadata": {},
   "outputs": [],
   "source": [
    "from sklearn.pipeline import Pipeline\n",
    "from sklearn.feature_selection import SelectPercentile, f_classif\n",
    "from sklearn.model_selection import cross_validate\n",
    "from sklearn.svm import LinearSVC\n",
    "feature_selection = SelectPercentile(f_classif, percentile=2)\n",
    "anova_svc = Pipeline([('anova', feature_selection), ('svc', LinearSVC())])\n",
    "# We can use our ``anova_svc`` object exactly as we were using our ``svc``\n",
    "# object previously.\n",
    "# As we want to investigate our model, we use sklearn `cross_validate` function\n",
    "# with `return_estimator = True` instead of cross_val_score, to save the estimator\n",
    "\n",
    "fitted_pipeline = cross_validate(anova_svc, fmri_all, labels,\n",
    "                                 cv=cv, return_estimator=True)\n",
    "\n",
    "print(\n",
    "    \"ANOVA+SVC test score: {:.3f}\".format(fitted_pipeline[\"test_score\"].mean()))\n"
   ]
  },
  {
   "cell_type": "code",
   "execution_count": null,
   "metadata": {},
   "outputs": [],
   "source": [
    "# retrieve the pipeline fitted on the first cross-validation fold and its SVC\n",
    "# coefficients\n",
    "first_pipeline = fitted_pipeline[\"estimator\"][0]\n",
    "svc_coef = first_pipeline.named_steps['svc'].coef_\n",
    "print(\"After feature selection, the SVC is trained only on {} features\".format(\n",
    "    svc_coef.shape[1]))\n",
    "\n",
    "# We invert the feature selection step to put these coefs in the right 2D place\n",
    "full_coef = first_pipeline.named_steps['anova'].inverse_transform(svc_coef)\n",
    "\n",
    "print(\"After inverting feature selection, we have {} features back\".format(\n",
    "    full_coef.shape[1]))\n",
    "\n",
    "# We apply the inverse of masking on these to make a 4D image that we can plot\n",
    "from nilearn.plotting import plot_stat_map\n",
    "weight_img = masker.inverse_transform(full_coef)\n",
    "mean_weight_img=mean_img(weight_img)\n",
    "plot_stat_map(mean_weight_img, title='Anova+SVC weights')"
   ]
  },
  {
   "cell_type": "code",
   "execution_count": null,
   "metadata": {},
   "outputs": [],
   "source": []
  }
 ],
 "metadata": {
  "kernelspec": {
   "display_name": "Python 3",
   "language": "python",
   "name": "python3"
  },
  "language_info": {
   "codemirror_mode": {
    "name": "ipython",
    "version": 3
   },
   "file_extension": ".py",
   "mimetype": "text/x-python",
   "name": "python",
   "nbconvert_exporter": "python",
   "pygments_lexer": "ipython3",
   "version": "3.8.5"
  }
 },
 "nbformat": 4,
 "nbformat_minor": 4
}
